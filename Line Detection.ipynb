{
 "cells": [
  {
   "cell_type": "code",
   "execution_count": 3,
   "metadata": {},
   "outputs": [],
   "source": [
    "import cv2\n",
    "import numpy as np\n",
    "import matplotlib.pyplot as plt\n",
    "import methods"
   ]
  },
  {
   "cell_type": "code",
   "execution_count": 4,
   "metadata": {},
   "outputs": [],
   "source": [
    "sample_path=\"tgs_salt/1bd1c8c771.png\"\n",
    "sample_semantic_mask_path=\"tgs_salt/1bd1c8c771Mask.png\"\n",
    "generat_mask_path=\"tgs_salt/0bdd44d530Mask.png\" "
   ]
  },
  {
   "cell_type": "code",
   "execution_count": 14,
   "metadata": {},
   "outputs": [
    {
     "data": {
      "image/png": "[encoded data removed]",
      "text/plain": [
       "<Figure size 500x500 with 3 Axes>"
      ]
     },
     "metadata": {},
     "output_type": "display_data"
    }
   ],
   "source": [
    "mask = cv2.imread(\"tgs_salt/1bd1c8c771Mask.png\")\n",
    "mask = cv2.cvtColor(mask, cv2.COLOR_BGR2GRAY)\n",
    "edges = cv2.Canny(mask,100,200)\n",
    "kernel = np.ones((5,5))\n",
    "dilated_edge = cv2.dilate(edges, kernel, iterations=1)\n",
    "# plt imshow 3 columns\n",
    "plt.figure(figsize=(5,5))\n",
    "plt.subplot(131),plt.imshow(mask,cmap = 'gray')\n",
    "plt.title('Original Mask'), plt.xticks([]), plt.yticks([])\n",
    "plt.axis('off')\n",
    "plt.subplot(132),plt.imshow(edges,cmap = 'gray')\n",
    "plt.title('Edge'), plt.xticks([]), plt.yticks([])\n",
    "plt.axis('off')\n",
    "plt.subplot(133),plt.imshow(dilated_edge,cmap = 'gray')\n",
    "plt.title('Dilated edge 5'), plt.xticks([]), plt.yticks([])\n",
    "plt.axis('off')\n",
    "plt.show()"
   ]
  },
  {
   "cell_type": "code",
   "execution_count": 24,
   "metadata": {},
   "outputs": [
    {
     "name": "stdout",
     "output_type": "stream",
     "text": [
      "Area: 25.5, angle: 22.833654403686523\n"
     ]
    }
   ],
   "source": [
    "import cv2\n",
    "# Load image as greyscale\n",
    "im = cv2.imread(\"tgs_salt/1bd1c8c771Mask.png\", cv2.IMREAD_GRAYSCALE)\n",
    "\n",
    "# Threshold for just the brightest things\n",
    "_, thr = cv2.threshold(edges, 192,255,type=cv2.THRESH_BINARY)\n",
    "\n",
    "# Find contours\n",
    "contours,hierarchy = cv2.findContours(thr, 1, 2)\n",
    "\n",
    "# Iterate over contours\n",
    "for cnt in contours:\n",
    "    # Get area of blob\n",
    "    area = cv2.contourArea(cnt)\n",
    "    # Only work with decent size blobs - ignore smallest ones\n",
    "    if area > 1:\n",
    "        center, size, angle = cv2.minAreaRect(cnt)\n",
    "        print(f'Area: {area}, angle: {angle}')"
   ]
  },
  {
   "cell_type": "code",
   "execution_count": 22,
   "metadata": {},
   "outputs": [],
   "source": [
    "# This returns an array of r and theta values\n",
    "lines = cv2.HoughLines(dilated_edge, 1, np.pi/180, 200)"
   ]
  },
  {
   "cell_type": "code",
   "execution_count": 23,
   "metadata": {},
   "outputs": [],
   "source": [
    "# The below for loop runs till r and theta values\n",
    "# are in the range of the 2d array\n",
    "if lines is not None:\n",
    "    for r_theta in lines:\n",
    "        arr = np.array(r_theta[0], dtype=np.float64)\n",
    "        r, theta = arr\n",
    "        # Stores the value of cos(theta) in a\n",
    "        a = np.cos(theta)\n",
    "    \n",
    "        # Stores the value of sin(theta) in b\n",
    "        b = np.sin(theta)\n",
    "    \n",
    "        # x0 stores the value rcos(theta)\n",
    "        x0 = a*r\n",
    "    \n",
    "        # y0 stores the value rsin(theta)\n",
    "        y0 = b*r\n",
    "    \n",
    "        # x1 stores the rounded off value of (rcos(theta)-1000sin(theta))\n",
    "        x1 = int(x0 + 1000*(-b))\n",
    "    \n",
    "        # y1 stores the rounded off value of (rsin(theta)+1000cos(theta))\n",
    "        y1 = int(y0 + 1000*(a))\n",
    "    \n",
    "        # x2 stores the rounded off value of (rcos(theta)+1000sin(theta))\n",
    "        x2 = int(x0 - 1000*(-b))\n",
    "    \n",
    "        # y2 stores the rounded off value of (rsin(theta)-1000cos(theta))\n",
    "        y2 = int(y0 - 1000*(a))\n",
    "    \n",
    "        # cv2.line draws a line in img from the point(x1,y1) to (x2,y2).\n",
    "        # (0,0,255) denotes the colour of the line to be\n",
    "        # drawn. In this case, it is red.\n",
    "        cv2.line(img, (x1, y1), (x2, y2), (0, 0, 255), 2)\n",
    "    \n",
    "    # All the changes made in the input image are finally\n",
    "    # written on a new image houghlines.jpg\n",
    "    cv2.imwrite('linesDetected.jpg', img)"
   ]
  },
  {
   "cell_type": "code",
   "execution_count": 28,
   "metadata": {},
   "outputs": [
    {
     "ename": "KeyboardInterrupt",
     "evalue": "",
     "output_type": "error",
     "traceback": [
      "\u001b[1;31m---------------------------------------------------------------------------\u001b[0m",
      "\u001b[1;31mKeyboardInterrupt\u001b[0m                         Traceback (most recent call last)",
      "\u001b[1;32md:\\_0Luciano\\_0PHD\\0code\\TextureSynthesis\\textureSSD\\Line Detection.ipynb Célula 7\u001b[0m line \u001b[0;36m2\n\u001b[0;32m     <a href='vscode-notebook-cell:/d%3A/_0Luciano/_0PHD/0code/TextureSynthesis/textureSSD/Line%20Detection.ipynb#X26sZmlsZQ%3D%3D?line=18'>19</a>\u001b[0m lines \u001b[39m=\u001b[39m cv2\u001b[39m.\u001b[39mHoughLines(edges, \u001b[39m1\u001b[39m, np\u001b[39m.\u001b[39mpi\u001b[39m/\u001b[39m\u001b[39m180\u001b[39m, \u001b[39m200\u001b[39m)\n\u001b[0;32m     <a href='vscode-notebook-cell:/d%3A/_0Luciano/_0PHD/0code/TextureSynthesis/textureSSD/Line%20Detection.ipynb#X26sZmlsZQ%3D%3D?line=20'>21</a>\u001b[0m \u001b[39m# The below for loop runs till r and theta values\u001b[39;00m\n\u001b[0;32m     <a href='vscode-notebook-cell:/d%3A/_0Luciano/_0PHD/0code/TextureSynthesis/textureSSD/Line%20Detection.ipynb#X26sZmlsZQ%3D%3D?line=21'>22</a>\u001b[0m \u001b[39m# are in the range of the 2d array\u001b[39;00m\n\u001b[1;32m---> <a href='vscode-notebook-cell:/d%3A/_0Luciano/_0PHD/0code/TextureSynthesis/textureSSD/Line%20Detection.ipynb#X26sZmlsZQ%3D%3D?line=22'>23</a>\u001b[0m \u001b[39mfor\u001b[39;00m r_theta \u001b[39min\u001b[39;00m lines:\n\u001b[0;32m     <a href='vscode-notebook-cell:/d%3A/_0Luciano/_0PHD/0code/TextureSynthesis/textureSSD/Line%20Detection.ipynb#X26sZmlsZQ%3D%3D?line=23'>24</a>\u001b[0m     arr \u001b[39m=\u001b[39m np\u001b[39m.\u001b[39marray(r_theta[\u001b[39m0\u001b[39m], dtype\u001b[39m=\u001b[39mnp\u001b[39m.\u001b[39mfloat64)\n\u001b[0;32m     <a href='vscode-notebook-cell:/d%3A/_0Luciano/_0PHD/0code/TextureSynthesis/textureSSD/Line%20Detection.ipynb#X26sZmlsZQ%3D%3D?line=24'>25</a>\u001b[0m     r, theta \u001b[39m=\u001b[39m arr\n",
      "\u001b[1;32md:\\_0Luciano\\_0PHD\\0code\\TextureSynthesis\\textureSSD\\Line Detection.ipynb Célula 7\u001b[0m line \u001b[0;36m2\n\u001b[0;32m     <a href='vscode-notebook-cell:/d%3A/_0Luciano/_0PHD/0code/TextureSynthesis/textureSSD/Line%20Detection.ipynb#X26sZmlsZQ%3D%3D?line=18'>19</a>\u001b[0m lines \u001b[39m=\u001b[39m cv2\u001b[39m.\u001b[39mHoughLines(edges, \u001b[39m1\u001b[39m, np\u001b[39m.\u001b[39mpi\u001b[39m/\u001b[39m\u001b[39m180\u001b[39m, \u001b[39m200\u001b[39m)\n\u001b[0;32m     <a href='vscode-notebook-cell:/d%3A/_0Luciano/_0PHD/0code/TextureSynthesis/textureSSD/Line%20Detection.ipynb#X26sZmlsZQ%3D%3D?line=20'>21</a>\u001b[0m \u001b[39m# The below for loop runs till r and theta values\u001b[39;00m\n\u001b[0;32m     <a href='vscode-notebook-cell:/d%3A/_0Luciano/_0PHD/0code/TextureSynthesis/textureSSD/Line%20Detection.ipynb#X26sZmlsZQ%3D%3D?line=21'>22</a>\u001b[0m \u001b[39m# are in the range of the 2d array\u001b[39;00m\n\u001b[1;32m---> <a href='vscode-notebook-cell:/d%3A/_0Luciano/_0PHD/0code/TextureSynthesis/textureSSD/Line%20Detection.ipynb#X26sZmlsZQ%3D%3D?line=22'>23</a>\u001b[0m \u001b[39mfor\u001b[39;00m r_theta \u001b[39min\u001b[39;00m lines:\n\u001b[0;32m     <a href='vscode-notebook-cell:/d%3A/_0Luciano/_0PHD/0code/TextureSynthesis/textureSSD/Line%20Detection.ipynb#X26sZmlsZQ%3D%3D?line=23'>24</a>\u001b[0m     arr \u001b[39m=\u001b[39m np\u001b[39m.\u001b[39marray(r_theta[\u001b[39m0\u001b[39m], dtype\u001b[39m=\u001b[39mnp\u001b[39m.\u001b[39mfloat64)\n\u001b[0;32m     <a href='vscode-notebook-cell:/d%3A/_0Luciano/_0PHD/0code/TextureSynthesis/textureSSD/Line%20Detection.ipynb#X26sZmlsZQ%3D%3D?line=24'>25</a>\u001b[0m     r, theta \u001b[39m=\u001b[39m arr\n",
      "File \u001b[1;32m_pydevd_bundle/pydevd_cython.pyx:1457\u001b[0m, in \u001b[0;36m_pydevd_bundle.pydevd_cython.SafeCallWrapper.__call__\u001b[1;34m()\u001b[0m\n",
      "File \u001b[1;32m_pydevd_bundle/pydevd_cython.pyx:701\u001b[0m, in \u001b[0;36m_pydevd_bundle.pydevd_cython.PyDBFrame.trace_dispatch\u001b[1;34m()\u001b[0m\n",
      "File \u001b[1;32m_pydevd_bundle/pydevd_cython.pyx:1395\u001b[0m, in \u001b[0;36m_pydevd_bundle.pydevd_cython.PyDBFrame.trace_dispatch\u001b[1;34m()\u001b[0m\n",
      "File \u001b[1;32m_pydevd_bundle/pydevd_cython.pyx:1344\u001b[0m, in \u001b[0;36m_pydevd_bundle.pydevd_cython.PyDBFrame.trace_dispatch\u001b[1;34m()\u001b[0m\n",
      "File \u001b[1;32m_pydevd_bundle/pydevd_cython.pyx:312\u001b[0m, in \u001b[0;36m_pydevd_bundle.pydevd_cython.PyDBFrame.do_wait_suspend\u001b[1;34m()\u001b[0m\n",
      "File \u001b[1;32md:\\simbr-env\\Miniconda\\envs\\cv2\\Lib\\site-packages\\debugpy\\_vendored\\pydevd\\pydevd.py:2070\u001b[0m, in \u001b[0;36mPyDB.do_wait_suspend\u001b[1;34m(self, thread, frame, event, arg, exception_type)\u001b[0m\n\u001b[0;32m   2067\u001b[0m             from_this_thread\u001b[39m.\u001b[39mappend(frame_custom_thread_id)\n\u001b[0;32m   2069\u001b[0m     \u001b[39mwith\u001b[39;00m \u001b[39mself\u001b[39m\u001b[39m.\u001b[39m_threads_suspended_single_notification\u001b[39m.\u001b[39mnotify_thread_suspended(thread_id, thread, stop_reason):\n\u001b[1;32m-> 2070\u001b[0m         keep_suspended \u001b[39m=\u001b[39m \u001b[39mself\u001b[39;49m\u001b[39m.\u001b[39;49m_do_wait_suspend(thread, frame, event, arg, suspend_type, from_this_thread, frames_tracker)\n\u001b[0;32m   2072\u001b[0m frames_list \u001b[39m=\u001b[39m \u001b[39mNone\u001b[39;00m\n\u001b[0;32m   2074\u001b[0m \u001b[39mif\u001b[39;00m keep_suspended:\n\u001b[0;32m   2075\u001b[0m     \u001b[39m# This means that we should pause again after a set next statement.\u001b[39;00m\n",
      "File \u001b[1;32md:\\simbr-env\\Miniconda\\envs\\cv2\\Lib\\site-packages\\debugpy\\_vendored\\pydevd\\pydevd.py:2106\u001b[0m, in \u001b[0;36mPyDB._do_wait_suspend\u001b[1;34m(self, thread, frame, event, arg, suspend_type, from_this_thread, frames_tracker)\u001b[0m\n\u001b[0;32m   2103\u001b[0m         \u001b[39mself\u001b[39m\u001b[39m.\u001b[39m_call_input_hook()\n\u001b[0;32m   2105\u001b[0m     \u001b[39mself\u001b[39m\u001b[39m.\u001b[39mprocess_internal_commands()\n\u001b[1;32m-> 2106\u001b[0m     time\u001b[39m.\u001b[39msleep(\u001b[39m0.01\u001b[39m)\n\u001b[0;32m   2108\u001b[0m \u001b[39mself\u001b[39m\u001b[39m.\u001b[39mcancel_async_evaluation(get_current_thread_id(thread), \u001b[39mstr\u001b[39m(\u001b[39mid\u001b[39m(frame)))\n\u001b[0;32m   2110\u001b[0m \u001b[39m# process any stepping instructions\u001b[39;00m\n",
      "\u001b[1;31mKeyboardInterrupt\u001b[0m: "
     ]
    }
   ],
   "source": [
    "# Python program to illustrate HoughLine\n",
    "# method for line detection\n",
    "import cv2\n",
    "import numpy as np\n",
    " \n",
    "# Reading the required image in\n",
    "# which operations are to be done.\n",
    "# Make sure that the image is in the same\n",
    "# directory in which this python program is\n",
    "img = cv2.imread('examples\\wood.jpg')\n",
    " \n",
    "# Convert the img to grayscale\n",
    "gray = cv2.cvtColor(img, cv2.COLOR_BGR2GRAY)\n",
    " \n",
    "# Apply edge detection method on the image\n",
    "edges = cv2.Canny(gray, 50, 150, apertureSize=3)\n",
    " \n",
    "# This returns an array of r and theta values\n",
    "lines = cv2.HoughLines(edges, 1, np.pi/180, 200)\n",
    "\n",
    "# cv2.HoughLines\n",
    "\n",
    "\n",
    " \n",
    "# The below for loop runs till r and theta values\n",
    "# are in the range of the 2d array\n",
    "for r_theta in lines:\n",
    "    arr = np.array(r_theta[0], dtype=np.float64)\n",
    "    r, theta = arr\n",
    "    # Stores the value of cos(theta) in a\n",
    "    a = np.cos(theta)\n",
    " \n",
    "    # Stores the value of sin(theta) in b\n",
    "    b = np.sin(theta)\n",
    " \n",
    "    # x0 stores the value rcos(theta)\n",
    "    x0 = a*r\n",
    " \n",
    "    # y0 stores the value rsin(theta)\n",
    "    y0 = b*r\n",
    " \n",
    "    # x1 stores the rounded off value of (rcos(theta)-1000sin(theta))\n",
    "    x1 = int(x0 + 1000*(-b))\n",
    " \n",
    "    # y1 stores the rounded off value of (rsin(theta)+1000cos(theta))\n",
    "    y1 = int(y0 + 1000*(a))\n",
    " \n",
    "    # x2 stores the rounded off value of (rcos(theta)+1000sin(theta))\n",
    "    x2 = int(x0 - 1000*(-b))\n",
    " \n",
    "    # y2 stores the rounded off value of (rsin(theta)-1000cos(theta))\n",
    "    y2 = int(y0 - 1000*(a))\n",
    " \n",
    "    # cv2.line draws a line in img from the point(x1,y1) to (x2,y2).\n",
    "    # (0,0,255) denotes the colour of the line to be\n",
    "    # drawn. In this case, it is red.\n",
    "    cv2.line(img, (x1, y1), (x2, y2), (0, 0, 255), 2)\n",
    " \n",
    "# All the changes made in the input image are finally\n",
    "# written on a new image houghlines.jpg\n",
    "cv2.imwrite('linesDetected.jpg', img)"
   ]
  }
 ],
 "metadata": {
  "kernelspec": {
   "display_name": "Python 3",
   "language": "python",
   "name": "python3"
  },
  "language_info": {
   "codemirror_mode": {
    "name": "ipython",
    "version": 3
   },
   "file_extension": ".py",
   "mimetype": "text/x-python",
   "name": "python",
   "nbconvert_exporter": "python",
   "pygments_lexer": "ipython3",
   "version": "3.11.4"
  },
  "orig_nbformat": 4
 },
 "nbformat": 4,
 "nbformat_minor": 2
}
