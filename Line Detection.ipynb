{
 "cells": [
  {
   "cell_type": "code",
   "execution_count": 1,
   "metadata": {},
   "outputs": [
    {
     "ename": "ModuleNotFoundError",
     "evalue": "No module named 'methods.py'; 'methods' is not a package",
     "output_type": "error",
     "traceback": [
      "\u001b[1;31m---------------------------------------------------------------------------\u001b[0m",
      "\u001b[1;31mModuleNotFoundError\u001b[0m                       Traceback (most recent call last)",
      "\u001b[1;32md:\\_0Luciano\\_0PHD\\0code\\TextureSynthesis\\textureSSD\\Line Detection.ipynb Célula 1\u001b[0m line \u001b[0;36m4\n\u001b[0;32m      <a href='vscode-notebook-cell:/d%3A/_0Luciano/_0PHD/0code/TextureSynthesis/textureSSD/Line%20Detection.ipynb#W0sZmlsZQ%3D%3D?line=1'>2</a>\u001b[0m \u001b[39mimport\u001b[39;00m \u001b[39mnumpy\u001b[39;00m \u001b[39mas\u001b[39;00m \u001b[39mnp\u001b[39;00m\n\u001b[0;32m      <a href='vscode-notebook-cell:/d%3A/_0Luciano/_0PHD/0code/TextureSynthesis/textureSSD/Line%20Detection.ipynb#W0sZmlsZQ%3D%3D?line=2'>3</a>\u001b[0m \u001b[39mimport\u001b[39;00m \u001b[39mmatplotlib\u001b[39;00m\u001b[39m.\u001b[39;00m\u001b[39mpyplot\u001b[39;00m \u001b[39mas\u001b[39;00m \u001b[39mplt\u001b[39;00m\n\u001b[1;32m----> <a href='vscode-notebook-cell:/d%3A/_0Luciano/_0PHD/0code/TextureSynthesis/textureSSD/Line%20Detection.ipynb#W0sZmlsZQ%3D%3D?line=3'>4</a>\u001b[0m \u001b[39mimport\u001b[39;00m \u001b[39mmethods\u001b[39;00m\u001b[39m.\u001b[39;00m\u001b[39mpy\u001b[39;00m\n",
      "\u001b[1;31mModuleNotFoundError\u001b[0m: No module named 'methods.py'; 'methods' is not a package"
     ]
    }
   ],
   "source": [
    "import cv2\n",
    "import numpy as np\n",
    "import matplotlib.pyplot as plt\n",
    "import ./methods.py"
   ]
  },
  {
   "cell_type": "code",
   "execution_count": 3,
   "metadata": {},
   "outputs": [],
   "source": [
    "sample_path=\"tgs_salt/1bd1c8c771.png\"\n",
    "sample_semantic_mask_path=\"tgs_salt/1bd1c8c771Mask.png\"\n",
    "generat_mask_path=\"tgs_salt/0bdd44d530Mask.png\" "
   ]
  },
  {
   "cell_type": "code",
   "execution_count": 4,
   "metadata": {},
   "outputs": [
    {
     "data": {
      "image/png": "[encoded data removed]",
      "text/plain": [
       "<Figure size 500x500 with 3 Axes>"
      ]
     },
     "metadata": {},
     "output_type": "display_data"
    }
   ],
   "source": [
    "mask = cv2.imread(\"tgs_salt/1bd1c8c771Mask.png\")\n",
    "mask = cv2.cvtColor(mask, cv2.COLOR_BGR2GRAY)\n",
    "edges = cv2.Canny(mask,100,200)\n",
    "kernel = np.ones((5,5))\n",
    "dilated_edge = cv2.dilate(edges, kernel, iterations=1)\n",
    "# plt imshow 3 columns\n",
    "plt.figure(figsize=(5,5))\n",
    "plt.subplot(131),plt.imshow(mask,cmap = 'gray')\n",
    "plt.title('Original Mask'), plt.xticks([]), plt.yticks([])\n",
    "plt.axis('off')\n",
    "plt.subplot(132),plt.imshow(edges,cmap = 'gray')\n",
    "plt.title('Edge'), plt.xticks([]), plt.yticks([])\n",
    "plt.axis('off')\n",
    "plt.subplot(133),plt.imshow(dilated_edge,cmap = 'gray')\n",
    "plt.title('Dilated edge 5'), plt.xticks([]), plt.yticks([])\n",
    "plt.axis('off')\n",
    "plt.show()"
   ]
  }
 ],
 "metadata": {
  "kernelspec": {
   "display_name": "Python 3",
   "language": "python",
   "name": "python3"
  },
  "language_info": {
   "codemirror_mode": {
    "name": "ipython",
    "version": 3
   },
   "file_extension": ".py",
   "mimetype": "text/x-python",
   "name": "python",
   "nbconvert_exporter": "python",
   "pygments_lexer": "ipython3",
   "version": "3.11.4"
  },
  "orig_nbformat": 4
 },
 "nbformat": 4,
 "nbformat_minor": 2
}
