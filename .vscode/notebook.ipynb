{
 "cells": [
  {
   "cell_type": "code",
   "execution_count": 24,
   "metadata": {},
   "outputs": [],
   "source": [
    "import numpy as np\n",
    "import cv2\n",
    "import matplotlib.pyplot as plt"
   ]
  },
  {
   "cell_type": "code",
   "execution_count": 17,
   "metadata": {},
   "outputs": [],
   "source": [
    "K = np.array([[0.00337701],       [0.01549156],\n",
    "       [0.05065756],\n",
    "       [0.11808084],\n",
    "       [0.19620069],\n",
    "       [0.23238471],\n",
    "       [0.19620069],\n",
    "       [0.11808084],\n",
    "       [0.05065756],\n",
    "       [0.01549156],\n",
    "       [0.00337701]])"
   ]
  },
  {
   "cell_type": "code",
   "execution_count": 19,
   "metadata": {},
   "outputs": [],
   "source": [
    "T = K.T"
   ]
  },
  {
   "cell_type": "code",
   "execution_count": 20,
   "metadata": {},
   "outputs": [
    {
     "data": {
      "text/plain": [
       "array([[0.00337701, 0.01549156, 0.05065756, 0.11808084, 0.19620069,\n",
       "        0.23238471, 0.19620069, 0.11808084, 0.05065756, 0.01549156,\n",
       "        0.00337701]])"
      ]
     },
     "execution_count": 20,
     "metadata": {},
     "output_type": "execute_result"
    }
   ],
   "source": [
    "T"
   ]
  },
  {
   "cell_type": "code",
   "execution_count": 21,
   "metadata": {},
   "outputs": [],
   "source": [
    "k2 = K * T"
   ]
  },
  {
   "cell_type": "code",
   "execution_count": 22,
   "metadata": {},
   "outputs": [
    {
     "data": {
      "text/plain": [
       "array([[1.14041965e-05, 5.23151530e-05, 1.71071087e-04, 3.98760177e-04,\n",
       "        6.62571692e-04, 7.84765490e-04, 6.62571692e-04, 3.98760177e-04,\n",
       "        1.71071087e-04, 5.23151530e-05, 1.14041965e-05],\n",
       "       [5.23151530e-05, 2.39988431e-04, 7.84764630e-04, 1.82925642e-03,\n",
       "        3.03945476e-03, 3.60000168e-03, 3.03945476e-03, 1.82925642e-03,\n",
       "        7.84764630e-04, 2.39988431e-04, 5.23151530e-05],\n",
       "       [1.71071087e-04, 7.84764630e-04, 2.56618839e-03, 5.98168724e-03,\n",
       "        9.93904823e-03, 1.17720424e-02, 9.93904823e-03, 5.98168724e-03,\n",
       "        2.56618839e-03, 7.84764630e-04, 1.71071087e-04],\n",
       "       [3.98760177e-04, 1.82925642e-03, 5.98168724e-03, 1.39430848e-02,\n",
       "        2.31675423e-02, 2.74401818e-02, 2.31675423e-02, 1.39430848e-02,\n",
       "        5.98168724e-03, 1.82925642e-03, 3.98760177e-04],\n",
       "       [6.62571692e-04, 3.03945476e-03, 9.93904823e-03, 2.31675423e-02,\n",
       "        3.84947108e-02, 4.55940404e-02, 3.84947108e-02, 2.31675423e-02,\n",
       "        9.93904823e-03, 3.03945476e-03, 6.62571692e-04],\n",
       "       [7.84765490e-04, 3.60000168e-03, 1.17720424e-02, 2.74401818e-02,\n",
       "        4.55940404e-02, 5.40026534e-02, 4.55940404e-02, 2.74401818e-02,\n",
       "        1.17720424e-02, 3.60000168e-03, 7.84765490e-04],\n",
       "       [6.62571692e-04, 3.03945476e-03, 9.93904823e-03, 2.31675423e-02,\n",
       "        3.84947108e-02, 4.55940404e-02, 3.84947108e-02, 2.31675423e-02,\n",
       "        9.93904823e-03, 3.03945476e-03, 6.62571692e-04],\n",
       "       [3.98760177e-04, 1.82925642e-03, 5.98168724e-03, 1.39430848e-02,\n",
       "        2.31675423e-02, 2.74401818e-02, 2.31675423e-02, 1.39430848e-02,\n",
       "        5.98168724e-03, 1.82925642e-03, 3.98760177e-04],\n",
       "       [1.71071087e-04, 7.84764630e-04, 2.56618839e-03, 5.98168724e-03,\n",
       "        9.93904823e-03, 1.17720424e-02, 9.93904823e-03, 5.98168724e-03,\n",
       "        2.56618839e-03, 7.84764630e-04, 1.71071087e-04],\n",
       "       [5.23151530e-05, 2.39988431e-04, 7.84764630e-04, 1.82925642e-03,\n",
       "        3.03945476e-03, 3.60000168e-03, 3.03945476e-03, 1.82925642e-03,\n",
       "        7.84764630e-04, 2.39988431e-04, 5.23151530e-05],\n",
       "       [1.14041965e-05, 5.23151530e-05, 1.71071087e-04, 3.98760177e-04,\n",
       "        6.62571692e-04, 7.84765490e-04, 6.62571692e-04, 3.98760177e-04,\n",
       "        1.71071087e-04, 5.23151530e-05, 1.14041965e-05]])"
      ]
     },
     "execution_count": 22,
     "metadata": {},
     "output_type": "execute_result"
    }
   ],
   "source": [
    "k2"
   ]
  },
  {
   "cell_type": "code",
   "execution_count": 25,
   "metadata": {},
   "outputs": [
    {
     "data": {
      "image/png": "[encoded data removed]",
      "text/plain": [
       "<Figure size 640x480 with 1 Axes>"
      ]
     },
     "metadata": {},
     "output_type": "display_data"
    }
   ],
   "source": [
    "plt.imshow(k2)\n",
    "plt.show()"
   ]
  },
  {
   "cell_type": "code",
   "execution_count": 7,
   "metadata": {},
   "outputs": [],
   "source": [
    "kernel = cv2.getGaussianKernel(11, 1.718)"
   ]
  },
  {
   "cell_type": "code",
   "execution_count": 8,
   "metadata": {},
   "outputs": [
    {
     "data": {
      "text/plain": [
       "array([[0.003366  ],\n",
       "       [0.01546162],\n",
       "       [0.050612  ],\n",
       "       [0.11806185],\n",
       "       [0.19625615],\n",
       "       [0.23248477],\n",
       "       [0.19625615],\n",
       "       [0.11806185],\n",
       "       [0.050612  ],\n",
       "       [0.01546162],\n",
       "       [0.003366  ]])"
      ]
     },
     "execution_count": 8,
     "metadata": {},
     "output_type": "execute_result"
    }
   ],
   "source": [
    "kernel"
   ]
  },
  {
   "cell_type": "code",
   "execution_count": 13,
   "metadata": {},
   "outputs": [
    {
     "data": {
      "text/plain": [
       "numpy.ndarray"
      ]
     },
     "execution_count": 13,
     "metadata": {},
     "output_type": "execute_result"
    }
   ],
   "source": [
    "type(kernel)"
   ]
  },
  {
   "cell_type": "code",
   "execution_count": null,
   "metadata": {},
   "outputs": [],
   "source": []
  }
 ],
 "metadata": {
  "kernelspec": {
   "display_name": "Python 3",
   "language": "python",
   "name": "python3"
  },
  "language_info": {
   "codemirror_mode": {
    "name": "ipython",
    "version": 3
   },
   "file_extension": ".py",
   "mimetype": "text/x-python",
   "name": "python",
   "nbconvert_exporter": "python",
   "pygments_lexer": "ipython3",
   "version": "3.11.4"
  },
  "orig_nbformat": 4
 },
 "nbformat": 4,
 "nbformat_minor": 2
}
